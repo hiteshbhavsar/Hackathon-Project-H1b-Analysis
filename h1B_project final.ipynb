{
 "cells": [
  {
   "cell_type": "code",
   "execution_count": 0,
   "metadata": {
    "colab": {},
    "colab_type": "code",
    "id": "y99Lpt4EA7cT"
   },
   "outputs": [],
   "source": [
    "from sklearn.feature_selection import SelectKBest, chi2, f_classif\n",
    "from sklearn.preprocessing import LabelEncoder\n",
    "from sklearn.tree import DecisionTreeClassifier\n",
    "from sklearn.metrics import accuracy_score, roc_auc_score, f1_score, precision_score, recall_score, classification_report"
   ]
  },
  {
   "cell_type": "code",
   "execution_count": 0,
   "metadata": {
    "colab": {},
    "colab_type": "code",
    "id": "GPIhSTuWFZ32"
   },
   "outputs": [],
   "source": [
    "# Install the PyDrive wrapper & import libraries.\n",
    "# This only needs to be done once per notebook.\n",
    "!pip install -U -q PyDrive\n",
    "from pydrive.auth import GoogleAuth\n",
    "from pydrive.drive import GoogleDrive\n",
    "from google.colab import auth\n",
    "from oauth2client.client import GoogleCredentials\n",
    "\n",
    "# Authenticate and create the PyDrive client.\n",
    "# This only needs to be done once per notebook.\n",
    "auth.authenticate_user()\n",
    "gauth = GoogleAuth()\n",
    "gauth.credentials = GoogleCredentials.get_application_default()\n",
    "drive = GoogleDrive(gauth)\n",
    "\n",
    "# Download a file based on its file ID.\n",
    "#\n",
    "# A file ID looks like: laggVyWshwcyP6kEI-y_W3P8D26sz\n",
    "# https://drive.google.com/open?id=1wWRxTCgIsk0HlOI9ABvjsD0OFz-1CiIh\n",
    "# https://drive.google.com/open?id=1wWRxTCgIsk0HlOI9ABvjsD0OFz-1CiIh\n",
    "# https://drive.google.com/open?id=1ax66OPpL5s90hSpCIokEpketijCNJt1j\n",
    "# https://drive.google.com/open?id=1aNlJ6x5DXfkjEW9ML_Yuc0LPWxvsnis6\n",
    "# https://drive.google.com/open?id=15IDIRfLy2D0YgD4It3b4yK9D8EiXu5U6\n",
    "file_id = '1wWRxTCgIsk0HlOI9ABvjsD0OFz-1CiIh'\n",
    "downloaded = drive.CreateFile({'id': file_id})\n",
    "# print('Downloaded content \"{}\"'.format(downloaded.GetContentString()))"
   ]
  },
  {
   "cell_type": "code",
   "execution_count": 0,
   "metadata": {
    "colab": {},
    "colab_type": "code",
    "id": "0eMLx2sPF7xK"
   },
   "outputs": [],
   "source": [
    "downloaded.GetContentFile('h1_b.csv')"
   ]
  },
  {
   "cell_type": "code",
   "execution_count": 0,
   "metadata": {
    "colab": {},
    "colab_type": "code",
    "id": "TRQUwtB6GgaC"
   },
   "outputs": [],
   "source": [
    "import pandas as pd\n",
    "import seaborn as sns\n",
    "import matplotlib.pyplot as plt"
   ]
  },
  {
   "cell_type": "code",
   "execution_count": 270,
   "metadata": {
    "colab": {
     "base_uri": "https://localhost:8080/",
     "height": 71
    },
    "colab_type": "code",
    "id": "3PpNtQ4dGcU8",
    "outputId": "06cfb71d-e816-4abd-e3f6-ff1a155ff99f"
   },
   "outputs": [
    {
     "name": "stderr",
     "output_type": "stream",
     "text": [
      "/usr/local/lib/python3.6/dist-packages/IPython/core/interactiveshell.py:2718: DtypeWarning: Columns (15,16,17,25) have mixed types. Specify dtype option on import or set low_memory=False.\n",
      "  interactivity=interactivity, compiler=compiler, result=result)\n"
     ]
    }
   ],
   "source": [
    "df = pd.read_csv('h1_b.csv', index_col=0)"
   ]
  },
  {
   "cell_type": "code",
   "execution_count": 0,
   "metadata": {
    "colab": {},
    "colab_type": "code",
    "id": "zCAVIF0VRsQn"
   },
   "outputs": [],
   "source": []
  },
  {
   "cell_type": "code",
   "execution_count": 0,
   "metadata": {
    "colab": {},
    "colab_type": "code",
    "id": "wXB-lrrlphxA"
   },
   "outputs": [],
   "source": [
    "df.drop(labels=['PUBLIC_DISCLOSURE_LOCATION'], axis=1, inplace=True)\n",
    "df.drop(labels=['CASE_NUMBER'], axis=1, inplace=True)\n",
    "df = df[(df['CASE_SUBMITTED'] < '2017-06-30') & (df['CASE_SUBMITTED'] > '2016-10-01')]"
   ]
  },
  {
   "cell_type": "code",
   "execution_count": 0,
   "metadata": {
    "colab": {},
    "colab_type": "code",
    "id": "68bbV4XrBDMg"
   },
   "outputs": [],
   "source": [
    "X = df.drop(labels=['CASE_STATUS'], axis=1)\n",
    "y = df['CASE_STATUS']\n",
    "y = y.replace({'WITHDRAWN':0, 'DENIED':0, 'CERTIFIED':1, 'CERTIFIED-WITHDRAWN':1})\n",
    "# dividing X, y into train and test data \n",
    "X_train, X_test, y_train, y_test = train_test_split(X, y, random_state = 0) "
   ]
  },
  {
   "cell_type": "code",
   "execution_count": 0,
   "metadata": {
    "colab": {},
    "colab_type": "code",
    "id": "9XwgBPnDRuGU"
   },
   "outputs": [],
   "source": [
    "missing_columns = X_train.isnull().sum()[X_train.isnull().sum() > 0].index\n",
    "for col in missing_columns:\n",
    "  X_train[col] = X_train[col].fillna(X_train[col].mode()[0])\n",
    "for col in missing_columns:\n",
    "  X_test[col] = X_test[col].fillna(X_train[col].mode()[0])"
   ]
  },
  {
   "cell_type": "code",
   "execution_count": 0,
   "metadata": {
    "colab": {},
    "colab_type": "code",
    "id": "eeaQcKS7A43w"
   },
   "outputs": [],
   "source": [
    "le = LabelEncoder()"
   ]
  },
  {
   "cell_type": "code",
   "execution_count": 0,
   "metadata": {
    "colab": {},
    "colab_type": "code",
    "id": "Xyz-o9cxA_KC"
   },
   "outputs": [],
   "source": [
    "cat_columns = set(X_train.columns) - set(X_train.select_dtypes(exclude='object').columns)"
   ]
  },
  {
   "cell_type": "code",
   "execution_count": 0,
   "metadata": {
    "colab": {},
    "colab_type": "code",
    "id": "meIBZwjACwhI"
   },
   "outputs": [],
   "source": [
    "# X_train['EMPLOYER_ADDRESS']  = X_train['EMPLOYER_ADDRESS'].str.replace(' ', '')"
   ]
  },
  {
   "cell_type": "code",
   "execution_count": 0,
   "metadata": {
    "colab": {},
    "colab_type": "code",
    "id": "Zdrk9-QlEyIA"
   },
   "outputs": [],
   "source": [
    "X_train = X_train[cat_columns].astype(str)\n",
    "X_test = X_test[cat_columns].astype(str)"
   ]
  },
  {
   "cell_type": "code",
   "execution_count": 0,
   "metadata": {
    "colab": {},
    "colab_type": "code",
    "id": "UUQuADCPCYmy"
   },
   "outputs": [],
   "source": [
    "for col in cat_columns:\n",
    "#   print(col)\n",
    "  X_train[col] = le.fit_transform(X_train[col])"
   ]
  },
  {
   "cell_type": "code",
   "execution_count": 0,
   "metadata": {
    "colab": {},
    "colab_type": "code",
    "id": "_U1raZHnGMVR"
   },
   "outputs": [],
   "source": [
    "for col in cat_columns:\n",
    "#   print(col)\n",
    "  X_test[col] = le.fit_transform(X_test[col])"
   ]
  },
  {
   "cell_type": "code",
   "execution_count": 0,
   "metadata": {
    "colab": {},
    "colab_type": "code",
    "id": "MZaIhtAsHDEq"
   },
   "outputs": [],
   "source": [
    "kBest = SelectKBest(score_func = f_classif, k=30)"
   ]
  },
  {
   "cell_type": "code",
   "execution_count": 0,
   "metadata": {
    "colab": {},
    "colab_type": "code",
    "id": "X4zZdfGCCnH5"
   },
   "outputs": [],
   "source": [
    "X_train = kBest.fit_transform(X_train, y_train)\n",
    "X_test = kBest.fit_transform(X_test, y_test)"
   ]
  },
  {
   "cell_type": "code",
   "execution_count": 312,
   "metadata": {
    "colab": {
     "base_uri": "https://localhost:8080/",
     "height": 34
    },
    "colab_type": "code",
    "id": "_sIO1YUpGzvV",
    "outputId": "8a42a836-2d78-414a-850c-6dc87ebc7558"
   },
   "outputs": [
    {
     "data": {
      "text/plain": [
       "(377409, 30)"
      ]
     },
     "execution_count": 312,
     "metadata": {
      "tags": []
     },
     "output_type": "execute_result"
    }
   ],
   "source": [
    "X_train.shape"
   ]
  },
  {
   "cell_type": "code",
   "execution_count": 0,
   "metadata": {
    "colab": {},
    "colab_type": "code",
    "id": "PxM0ehF_HWyE"
   },
   "outputs": [],
   "source": [
    "clf_dt = DecisionTreeClassifier(max_depth=10, max_leaf_nodes=30, random_state=0)"
   ]
  },
  {
   "cell_type": "code",
   "execution_count": 0,
   "metadata": {
    "colab": {},
    "colab_type": "code",
    "id": "-607KMLPHvCI"
   },
   "outputs": [],
   "source": [
    "def buildModel(clf, class_weigths=None):\n",
    "  clf.fit(X_train, y_train, sample_weight=class_weigths)\n",
    "  y_pred = clf.predict(X_test)\n",
    "  getMetricsScores(y_test, y_pred)"
   ]
  },
  {
   "cell_type": "code",
   "execution_count": 0,
   "metadata": {
    "colab": {},
    "colab_type": "code",
    "id": "cqTuCi3aH7I3"
   },
   "outputs": [],
   "source": [
    "def getMetricsScores(y_test, y_pred):\n",
    "  print(\"ROC Score: {}\".format(roc_auc_score(y_test, y_pred)))\n",
    "  print(\"F1 Score:{}\".format(f1_score(y_test, y_pred)))\n",
    "  print(\"Accuracy Score : {}\".format(accuracy_score(y_test, y_pred)))\n",
    "  print(\"Recall Score : {}\".format(recall_score(y_test, y_pred)))\n",
    "  print(\"Precision score:{}\".format(precision_score(y_test, y_pred)))\n",
    "#   print(classification_report(y_test, y_pred))\n",
    "  print(confusion_matrix(y_test, y_pred))"
   ]
  },
  {
   "cell_type": "code",
   "execution_count": 350,
   "metadata": {
    "colab": {
     "base_uri": "https://localhost:8080/",
     "height": 136
    },
    "colab_type": "code",
    "id": "9-hzSgNzIyiz",
    "outputId": "224f227d-0ce4-471d-972d-ea00f543d1d5"
   },
   "outputs": [
    {
     "name": "stdout",
     "output_type": "stream",
     "text": [
      "ROC Score: 0.5041568023244105\n",
      "F1 Score:0.9773049818431723\n",
      "Accuracy Score : 0.9556373406250993\n",
      "Recall Score : 0.9976753067764808\n",
      "Precision score:0.9577498465732025\n",
      "[[    57   5301]\n",
      " [   280 120166]]\n"
     ]
    }
   ],
   "source": [
    "buildModel(clf_dt)"
   ]
  },
  {
   "cell_type": "code",
   "execution_count": 0,
   "metadata": {
    "colab": {},
    "colab_type": "code",
    "id": "B0HzanC_NTeP"
   },
   "outputs": [],
   "source": [
    "\n",
    "from sklearn.ensemble import RandomForestClassifier\n",
    "\n",
    "# train model\n",
    "rfc = RandomForestClassifier(n_estimators=10).fit(X_train, y_train)"
   ]
  },
  {
   "cell_type": "code",
   "execution_count": 0,
   "metadata": {
    "colab": {},
    "colab_type": "code",
    "id": "7Mw9PrkNNmQ4"
   },
   "outputs": [],
   "source": [
    "buildModel(rfc)"
   ]
  },
  {
   "cell_type": "code",
   "execution_count": 0,
   "metadata": {
    "colab": {},
    "colab_type": "code",
    "id": "RrrVhtneN6ME"
   },
   "outputs": [],
   "source": [
    "from sklearn.utils import class_weight\n",
    "import numpy as np"
   ]
  },
  {
   "cell_type": "code",
   "execution_count": 0,
   "metadata": {
    "colab": {},
    "colab_type": "code",
    "id": "kdaeiyM3OA_F"
   },
   "outputs": [],
   "source": [
    "class_wt = class_weight.compute_class_weight('balanced',\n",
    "                                                 np.unique(y_train),\n",
    "                                                 y_train)"
   ]
  },
  {
   "cell_type": "code",
   "execution_count": 335,
   "metadata": {
    "colab": {
     "base_uri": "https://localhost:8080/",
     "height": 306
    },
    "colab_type": "code",
    "id": "Uh3J2CsZOG5d",
    "outputId": "54d77c05-f788-48ca-ae17-a385c5e722ae"
   },
   "outputs": [
    {
     "ename": "ValueError",
     "evalue": "ignored",
     "output_type": "error",
     "traceback": [
      "\u001b[0;31m---------------------------------------------------------------------------\u001b[0m",
      "\u001b[0;31mValueError\u001b[0m                                Traceback (most recent call last)",
      "\u001b[0;32m<ipython-input-335-1e10967f43d2>\u001b[0m in \u001b[0;36m<module>\u001b[0;34m()\u001b[0m\n\u001b[0;32m----> 1\u001b[0;31m \u001b[0mbuildModel\u001b[0m\u001b[0;34m(\u001b[0m\u001b[0mclf_dt\u001b[0m\u001b[0;34m,\u001b[0m \u001b[0mclass_wt\u001b[0m\u001b[0;34m)\u001b[0m\u001b[0;34m\u001b[0m\u001b[0;34m\u001b[0m\u001b[0m\n\u001b[0m",
      "\u001b[0;32m<ipython-input-333-c59361ac8110>\u001b[0m in \u001b[0;36mbuildModel\u001b[0;34m(clf, class_weigths)\u001b[0m\n\u001b[1;32m      1\u001b[0m \u001b[0;32mdef\u001b[0m \u001b[0mbuildModel\u001b[0m\u001b[0;34m(\u001b[0m\u001b[0mclf\u001b[0m\u001b[0;34m,\u001b[0m \u001b[0mclass_weigths\u001b[0m\u001b[0;34m=\u001b[0m\u001b[0;32mNone\u001b[0m\u001b[0;34m)\u001b[0m\u001b[0;34m:\u001b[0m\u001b[0;34m\u001b[0m\u001b[0;34m\u001b[0m\u001b[0m\n\u001b[0;32m----> 2\u001b[0;31m   \u001b[0mclf\u001b[0m\u001b[0;34m.\u001b[0m\u001b[0mfit\u001b[0m\u001b[0;34m(\u001b[0m\u001b[0mX_train\u001b[0m\u001b[0;34m,\u001b[0m \u001b[0my_train\u001b[0m\u001b[0;34m,\u001b[0m \u001b[0msample_weight\u001b[0m\u001b[0;34m=\u001b[0m\u001b[0mclass_weigths\u001b[0m\u001b[0;34m)\u001b[0m\u001b[0;34m\u001b[0m\u001b[0;34m\u001b[0m\u001b[0m\n\u001b[0m\u001b[1;32m      3\u001b[0m   \u001b[0my_pred\u001b[0m \u001b[0;34m=\u001b[0m \u001b[0mclf\u001b[0m\u001b[0;34m.\u001b[0m\u001b[0mpredict\u001b[0m\u001b[0;34m(\u001b[0m\u001b[0mX_test\u001b[0m\u001b[0;34m)\u001b[0m\u001b[0;34m\u001b[0m\u001b[0;34m\u001b[0m\u001b[0m\n\u001b[1;32m      4\u001b[0m   \u001b[0mgetMetricsScores\u001b[0m\u001b[0;34m(\u001b[0m\u001b[0my_test\u001b[0m\u001b[0;34m,\u001b[0m \u001b[0my_pred\u001b[0m\u001b[0;34m)\u001b[0m\u001b[0;34m\u001b[0m\u001b[0;34m\u001b[0m\u001b[0m\n",
      "\u001b[0;32m/usr/local/lib/python3.6/dist-packages/sklearn/tree/tree.py\u001b[0m in \u001b[0;36mfit\u001b[0;34m(self, X, y, sample_weight, check_input, X_idx_sorted)\u001b[0m\n\u001b[1;32m    799\u001b[0m             \u001b[0msample_weight\u001b[0m\u001b[0;34m=\u001b[0m\u001b[0msample_weight\u001b[0m\u001b[0;34m,\u001b[0m\u001b[0;34m\u001b[0m\u001b[0;34m\u001b[0m\u001b[0m\n\u001b[1;32m    800\u001b[0m             \u001b[0mcheck_input\u001b[0m\u001b[0;34m=\u001b[0m\u001b[0mcheck_input\u001b[0m\u001b[0;34m,\u001b[0m\u001b[0;34m\u001b[0m\u001b[0;34m\u001b[0m\u001b[0m\n\u001b[0;32m--> 801\u001b[0;31m             X_idx_sorted=X_idx_sorted)\n\u001b[0m\u001b[1;32m    802\u001b[0m         \u001b[0;32mreturn\u001b[0m \u001b[0mself\u001b[0m\u001b[0;34m\u001b[0m\u001b[0;34m\u001b[0m\u001b[0m\n\u001b[1;32m    803\u001b[0m \u001b[0;34m\u001b[0m\u001b[0m\n",
      "\u001b[0;32m/usr/local/lib/python3.6/dist-packages/sklearn/tree/tree.py\u001b[0m in \u001b[0;36mfit\u001b[0;34m(self, X, y, sample_weight, check_input, X_idx_sorted)\u001b[0m\n\u001b[1;32m    260\u001b[0m                 raise ValueError(\"Number of weights=%d does not match \"\n\u001b[1;32m    261\u001b[0m                                  \u001b[0;34m\"number of samples=%d\"\u001b[0m \u001b[0;34m%\u001b[0m\u001b[0;34m\u001b[0m\u001b[0;34m\u001b[0m\u001b[0m\n\u001b[0;32m--> 262\u001b[0;31m                                  (len(sample_weight), n_samples))\n\u001b[0m\u001b[1;32m    263\u001b[0m \u001b[0;34m\u001b[0m\u001b[0m\n\u001b[1;32m    264\u001b[0m         \u001b[0;32mif\u001b[0m \u001b[0mexpanded_class_weight\u001b[0m \u001b[0;32mis\u001b[0m \u001b[0;32mnot\u001b[0m \u001b[0;32mNone\u001b[0m\u001b[0;34m:\u001b[0m\u001b[0;34m\u001b[0m\u001b[0;34m\u001b[0m\u001b[0m\n",
      "\u001b[0;31mValueError\u001b[0m: Number of weights=2 does not match number of samples=377409"
     ]
    }
   ],
   "source": [
    "buildModel(clf_dt, class_wt)"
   ]
  },
  {
   "cell_type": "code",
   "execution_count": 286,
   "metadata": {
    "colab": {
     "base_uri": "https://localhost:8080/",
     "height": 301
    },
    "colab_type": "code",
    "id": "KPZu8BxeKA-g",
    "outputId": "ed9147d8-ddeb-45d4-b5e7-5d6d941365d2"
   },
   "outputs": [
    {
     "data": {
      "text/plain": [
       "<matplotlib.axes._subplots.AxesSubplot at 0x7f40621097b8>"
      ]
     },
     "execution_count": 286,
     "metadata": {
      "tags": []
     },
     "output_type": "execute_result"
    },
    {
     "data": {
      "image/png": "[encoded data removed]",
      "text/plain": [
       "<Figure size 432x288 with 1 Axes>"
      ]
     },
     "metadata": {
      "tags": []
     },
     "output_type": "display_data"
    }
   ],
   "source": [
    "sns.countplot(y_train)"
   ]
  },
  {
   "cell_type": "code",
   "execution_count": 195,
   "metadata": {
    "colab": {
     "base_uri": "https://localhost:8080/",
     "height": 102
    },
    "colab_type": "code",
    "id": "c2PpvzlUw0Xp",
    "outputId": "bb9c0377-3316-4c16-f241-ee6351544cfc"
   },
   "outputs": [
    {
     "data": {
      "text/plain": [
       "CERTIFIED              461052\n",
       "CERTIFIED-WITHDRAWN     20528\n",
       "WITHDRAWN               14682\n",
       "DENIED                   6951\n",
       "Name: CASE_STATUS, dtype: int64"
      ]
     },
     "execution_count": 195,
     "metadata": {
      "tags": []
     },
     "output_type": "execute_result"
    }
   ],
   "source": [
    "df['CASE_STATUS'].value_counts()"
   ]
  },
  {
   "cell_type": "code",
   "execution_count": 222,
   "metadata": {
    "colab": {
     "base_uri": "https://localhost:8080/",
     "height": 372
    },
    "colab_type": "code",
    "id": "lysU6oPv0wbs",
    "outputId": "01643506-caa6-4e62-c0c7-84f01b895793"
   },
   "outputs": [
    {
     "data": {
      "text/html": [
       "<div>\n",
       "<style scoped>\n",
       "    .dataframe tbody tr th:only-of-type {\n",
       "        vertical-align: middle;\n",
       "    }\n",
       "\n",
       "    .dataframe tbody tr th {\n",
       "        vertical-align: top;\n",
       "    }\n",
       "\n",
       "    .dataframe thead th {\n",
       "        text-align: right;\n",
       "    }\n",
       "</style>\n",
       "<table border=\"1\" class=\"dataframe\">\n",
       "  <thead>\n",
       "    <tr style=\"text-align: right;\">\n",
       "      <th></th>\n",
       "      <th>CASE_STATUS</th>\n",
       "      <th>CASE_SUBMITTED</th>\n",
       "      <th>DECISION_DATE</th>\n",
       "      <th>VISA_CLASS</th>\n",
       "      <th>EMPLOYMENT_START_DATE</th>\n",
       "      <th>EMPLOYMENT_END_DATE</th>\n",
       "      <th>EMPLOYER_NAME</th>\n",
       "      <th>EMPLOYER_BUSINESS_DBA</th>\n",
       "      <th>EMPLOYER_ADDRESS</th>\n",
       "      <th>EMPLOYER_CITY</th>\n",
       "      <th>...</th>\n",
       "      <th>WAGE_UNIT_OF_PAY</th>\n",
       "      <th>H1B_DEPENDENT</th>\n",
       "      <th>WILLFUL_VIOLATOR</th>\n",
       "      <th>SUPPORT_H1B</th>\n",
       "      <th>LABOR_CON_AGREE</th>\n",
       "      <th>WORKSITE_CITY</th>\n",
       "      <th>WORKSITE_COUNTY</th>\n",
       "      <th>WORKSITE_STATE</th>\n",
       "      <th>WORKSITE_POSTAL_CODE</th>\n",
       "      <th>ORIGINAL_CERT_DATE</th>\n",
       "    </tr>\n",
       "  </thead>\n",
       "  <tbody>\n",
       "    <tr>\n",
       "      <th>16</th>\n",
       "      <td>WITHDRAWN</td>\n",
       "      <td>2016-10-02</td>\n",
       "      <td>2016-10-02</td>\n",
       "      <td>H-1B</td>\n",
       "      <td>2016-10-08</td>\n",
       "      <td>2019-10-07</td>\n",
       "      <td>ITAS INC</td>\n",
       "      <td>NaN</td>\n",
       "      <td>8888  KEYSTONE CROSSING</td>\n",
       "      <td>INDIANAPOLIS</td>\n",
       "      <td>...</td>\n",
       "      <td>Year</td>\n",
       "      <td>N</td>\n",
       "      <td>N</td>\n",
       "      <td>NaN</td>\n",
       "      <td>Y</td>\n",
       "      <td>MELVILLE</td>\n",
       "      <td>SUFFOLK</td>\n",
       "      <td>NY</td>\n",
       "      <td>11747</td>\n",
       "      <td>NaN</td>\n",
       "    </tr>\n",
       "    <tr>\n",
       "      <th>1501</th>\n",
       "      <td>WITHDRAWN</td>\n",
       "      <td>2016-10-03</td>\n",
       "      <td>2016-10-03</td>\n",
       "      <td>H-1B</td>\n",
       "      <td>2016-10-03</td>\n",
       "      <td>2019-09-01</td>\n",
       "      <td>THRIVESOFT INC</td>\n",
       "      <td>SANTHA YAKKALI</td>\n",
       "      <td>22623 44TH DR SE</td>\n",
       "      <td>BOTHELL</td>\n",
       "      <td>...</td>\n",
       "      <td>Year</td>\n",
       "      <td>Y</td>\n",
       "      <td>N</td>\n",
       "      <td>Y</td>\n",
       "      <td>Y</td>\n",
       "      <td>BELLEVUE</td>\n",
       "      <td>KING</td>\n",
       "      <td>WA</td>\n",
       "      <td>98007</td>\n",
       "      <td>NaN</td>\n",
       "    </tr>\n",
       "    <tr>\n",
       "      <th>1502</th>\n",
       "      <td>WITHDRAWN</td>\n",
       "      <td>2016-10-03</td>\n",
       "      <td>2016-10-03</td>\n",
       "      <td>H-1B</td>\n",
       "      <td>2016-10-03</td>\n",
       "      <td>2019-10-02</td>\n",
       "      <td>BOSS TECHNOLOGIES, INC</td>\n",
       "      <td>NaN</td>\n",
       "      <td>5755 NORTH POINT PARKWAY</td>\n",
       "      <td>ALPHARETTA</td>\n",
       "      <td>...</td>\n",
       "      <td>Year</td>\n",
       "      <td>Y</td>\n",
       "      <td>N</td>\n",
       "      <td>Y</td>\n",
       "      <td>NaN</td>\n",
       "      <td>ALPHARETTA</td>\n",
       "      <td>GEORGIA</td>\n",
       "      <td>GA</td>\n",
       "      <td>30022</td>\n",
       "      <td>NaN</td>\n",
       "    </tr>\n",
       "    <tr>\n",
       "      <th>1503</th>\n",
       "      <td>WITHDRAWN</td>\n",
       "      <td>2016-10-03</td>\n",
       "      <td>2016-10-03</td>\n",
       "      <td>H-1B</td>\n",
       "      <td>2016-10-11</td>\n",
       "      <td>2019-10-10</td>\n",
       "      <td>INVENTIV HEALTH CLINICAL LLC</td>\n",
       "      <td>NaN</td>\n",
       "      <td>202 CARNEGIE CENTER</td>\n",
       "      <td>PRINCETON</td>\n",
       "      <td>...</td>\n",
       "      <td>Year</td>\n",
       "      <td>N</td>\n",
       "      <td>N</td>\n",
       "      <td>NaN</td>\n",
       "      <td>Y</td>\n",
       "      <td>PRINCETON</td>\n",
       "      <td>MERCER</td>\n",
       "      <td>NJ</td>\n",
       "      <td>08540</td>\n",
       "      <td>NaN</td>\n",
       "    </tr>\n",
       "    <tr>\n",
       "      <th>1504</th>\n",
       "      <td>WITHDRAWN</td>\n",
       "      <td>2016-10-03</td>\n",
       "      <td>2016-10-03</td>\n",
       "      <td>H-1B</td>\n",
       "      <td>2016-10-10</td>\n",
       "      <td>2017-05-08</td>\n",
       "      <td>SOFTPATH SYSTEM LLC</td>\n",
       "      <td>NaN</td>\n",
       "      <td>3985 STEVE REYNOLDS BLVD.</td>\n",
       "      <td>NORCROSS</td>\n",
       "      <td>...</td>\n",
       "      <td>Year</td>\n",
       "      <td>Y</td>\n",
       "      <td>N</td>\n",
       "      <td>Y</td>\n",
       "      <td>NaN</td>\n",
       "      <td>HARTFORD</td>\n",
       "      <td>HARTFORD</td>\n",
       "      <td>CT</td>\n",
       "      <td>06103</td>\n",
       "      <td>NaN</td>\n",
       "    </tr>\n",
       "  </tbody>\n",
       "</table>\n",
       "<p>5 rows × 50 columns</p>\n",
       "</div>"
      ],
      "text/plain": [
       "     CASE_STATUS CASE_SUBMITTED DECISION_DATE VISA_CLASS  \\\n",
       "16     WITHDRAWN     2016-10-02    2016-10-02       H-1B   \n",
       "1501   WITHDRAWN     2016-10-03    2016-10-03       H-1B   \n",
       "1502   WITHDRAWN     2016-10-03    2016-10-03       H-1B   \n",
       "1503   WITHDRAWN     2016-10-03    2016-10-03       H-1B   \n",
       "1504   WITHDRAWN     2016-10-03    2016-10-03       H-1B   \n",
       "\n",
       "     EMPLOYMENT_START_DATE EMPLOYMENT_END_DATE                 EMPLOYER_NAME  \\\n",
       "16              2016-10-08          2019-10-07                      ITAS INC   \n",
       "1501            2016-10-03          2019-09-01                THRIVESOFT INC   \n",
       "1502            2016-10-03          2019-10-02        BOSS TECHNOLOGIES, INC   \n",
       "1503            2016-10-11          2019-10-10  INVENTIV HEALTH CLINICAL LLC   \n",
       "1504            2016-10-10          2017-05-08           SOFTPATH SYSTEM LLC   \n",
       "\n",
       "     EMPLOYER_BUSINESS_DBA           EMPLOYER_ADDRESS EMPLOYER_CITY  ...  \\\n",
       "16                     NaN    8888  KEYSTONE CROSSING  INDIANAPOLIS  ...   \n",
       "1501        SANTHA YAKKALI           22623 44TH DR SE       BOTHELL  ...   \n",
       "1502                   NaN   5755 NORTH POINT PARKWAY    ALPHARETTA  ...   \n",
       "1503                   NaN        202 CARNEGIE CENTER     PRINCETON  ...   \n",
       "1504                   NaN  3985 STEVE REYNOLDS BLVD.      NORCROSS  ...   \n",
       "\n",
       "     WAGE_UNIT_OF_PAY H1B_DEPENDENT WILLFUL_VIOLATOR SUPPORT_H1B  \\\n",
       "16               Year             N                N         NaN   \n",
       "1501             Year             Y                N           Y   \n",
       "1502             Year             Y                N           Y   \n",
       "1503             Year             N                N         NaN   \n",
       "1504             Year             Y                N           Y   \n",
       "\n",
       "     LABOR_CON_AGREE WORKSITE_CITY WORKSITE_COUNTY WORKSITE_STATE  \\\n",
       "16                 Y      MELVILLE         SUFFOLK             NY   \n",
       "1501               Y      BELLEVUE            KING             WA   \n",
       "1502             NaN    ALPHARETTA         GEORGIA             GA   \n",
       "1503               Y     PRINCETON          MERCER             NJ   \n",
       "1504             NaN      HARTFORD        HARTFORD             CT   \n",
       "\n",
       "     WORKSITE_POSTAL_CODE ORIGINAL_CERT_DATE  \n",
       "16                  11747                NaN  \n",
       "1501                98007                NaN  \n",
       "1502                30022                NaN  \n",
       "1503                08540                NaN  \n",
       "1504                06103                NaN  \n",
       "\n",
       "[5 rows x 50 columns]"
      ]
     },
     "execution_count": 222,
     "metadata": {
      "tags": []
     },
     "output_type": "execute_result"
    }
   ],
   "source": [
    "df.head()"
   ]
  },
  {
   "cell_type": "code",
   "execution_count": 226,
   "metadata": {
    "colab": {
     "base_uri": "https://localhost:8080/",
     "height": 34
    },
    "colab_type": "code",
    "id": "oEsKvPY4xQpL",
    "outputId": "b6ba64da-b2bc-455b-d57a-56318342280a"
   },
   "outputs": [
    {
     "data": {
      "text/plain": [
       "20532"
      ]
     },
     "execution_count": 226,
     "metadata": {
      "tags": []
     },
     "output_type": "execute_result"
    }
   ],
   "source": [
    "df.shape[0]-df['ORIGINAL_CERT_DATE'].isnull().sum()"
   ]
  },
  {
   "cell_type": "code",
   "execution_count": 0,
   "metadata": {
    "colab": {},
    "colab_type": "code",
    "id": "029uu5DP1_w-"
   },
   "outputs": [],
   "source": [
    "from sklearn.feature_selection import SelectKBest, chi2, f_classif\n",
    "from sklearn.preprocessing import LabelEncoder"
   ]
  },
  {
   "cell_type": "code",
   "execution_count": 0,
   "metadata": {
    "colab": {},
    "colab_type": "code",
    "id": "sNGQSmbkAhAO"
   },
   "outputs": [],
   "source": [
    "le = LabelEncoder()"
   ]
  },
  {
   "cell_type": "code",
   "execution_count": 0,
   "metadata": {
    "colab": {},
    "colab_type": "code",
    "id": "ZtQTi4GMAqv1"
   },
   "outputs": [],
   "source": [
    "le.fit(X_train, y_train)"
   ]
  },
  {
   "cell_type": "code",
   "execution_count": 231,
   "metadata": {
    "colab": {
     "base_uri": "https://localhost:8080/",
     "height": 326
    },
    "colab_type": "code",
    "id": "5JMwJ8Pq2AWy",
    "outputId": "dc98ef5d-e0af-40f4-a738-864df7ac89c8"
   },
   "outputs": [
    {
     "ename": "ValueError",
     "evalue": "ignored",
     "output_type": "error",
     "traceback": [
      "\u001b[0;31m---------------------------------------------------------------------------\u001b[0m",
      "\u001b[0;31mValueError\u001b[0m                                Traceback (most recent call last)",
      "\u001b[0;32m<ipython-input-231-74a680122c4a>\u001b[0m in \u001b[0;36m<module>\u001b[0;34m()\u001b[0m\n\u001b[0;32m----> 1\u001b[0;31m \u001b[0mX\u001b[0m \u001b[0;34m=\u001b[0m \u001b[0mSelectKBest\u001b[0m\u001b[0;34m(\u001b[0m\u001b[0mscore_func\u001b[0m \u001b[0;34m=\u001b[0m \u001b[0mchi2\u001b[0m\u001b[0;34m,\u001b[0m \u001b[0mk\u001b[0m\u001b[0;34m=\u001b[0m\u001b[0;36m40\u001b[0m\u001b[0;34m)\u001b[0m\u001b[0;34m.\u001b[0m\u001b[0mfit_transform\u001b[0m\u001b[0;34m(\u001b[0m\u001b[0mX\u001b[0m\u001b[0;34m,\u001b[0m \u001b[0my\u001b[0m\u001b[0;34m)\u001b[0m\u001b[0;34m\u001b[0m\u001b[0;34m\u001b[0m\u001b[0m\n\u001b[0m",
      "\u001b[0;32m/usr/local/lib/python3.6/dist-packages/sklearn/base.py\u001b[0m in \u001b[0;36mfit_transform\u001b[0;34m(self, X, y, **fit_params)\u001b[0m\n\u001b[1;32m    465\u001b[0m         \u001b[0;32melse\u001b[0m\u001b[0;34m:\u001b[0m\u001b[0;34m\u001b[0m\u001b[0;34m\u001b[0m\u001b[0m\n\u001b[1;32m    466\u001b[0m             \u001b[0;31m# fit method of arity 2 (supervised transformation)\u001b[0m\u001b[0;34m\u001b[0m\u001b[0;34m\u001b[0m\u001b[0;34m\u001b[0m\u001b[0m\n\u001b[0;32m--> 467\u001b[0;31m             \u001b[0;32mreturn\u001b[0m \u001b[0mself\u001b[0m\u001b[0;34m.\u001b[0m\u001b[0mfit\u001b[0m\u001b[0;34m(\u001b[0m\u001b[0mX\u001b[0m\u001b[0;34m,\u001b[0m \u001b[0my\u001b[0m\u001b[0;34m,\u001b[0m \u001b[0;34m**\u001b[0m\u001b[0mfit_params\u001b[0m\u001b[0;34m)\u001b[0m\u001b[0;34m.\u001b[0m\u001b[0mtransform\u001b[0m\u001b[0;34m(\u001b[0m\u001b[0mX\u001b[0m\u001b[0;34m)\u001b[0m\u001b[0;34m\u001b[0m\u001b[0;34m\u001b[0m\u001b[0m\n\u001b[0m\u001b[1;32m    468\u001b[0m \u001b[0;34m\u001b[0m\u001b[0m\n\u001b[1;32m    469\u001b[0m \u001b[0;34m\u001b[0m\u001b[0m\n",
      "\u001b[0;32m/usr/local/lib/python3.6/dist-packages/sklearn/feature_selection/univariate_selection.py\u001b[0m in \u001b[0;36mfit\u001b[0;34m(self, X, y)\u001b[0m\n\u001b[1;32m    339\u001b[0m         \u001b[0mself\u001b[0m \u001b[0;34m:\u001b[0m \u001b[0mobject\u001b[0m\u001b[0;34m\u001b[0m\u001b[0;34m\u001b[0m\u001b[0m\n\u001b[1;32m    340\u001b[0m         \"\"\"\n\u001b[0;32m--> 341\u001b[0;31m         \u001b[0mX\u001b[0m\u001b[0;34m,\u001b[0m \u001b[0my\u001b[0m \u001b[0;34m=\u001b[0m \u001b[0mcheck_X_y\u001b[0m\u001b[0;34m(\u001b[0m\u001b[0mX\u001b[0m\u001b[0;34m,\u001b[0m \u001b[0my\u001b[0m\u001b[0;34m,\u001b[0m \u001b[0;34m[\u001b[0m\u001b[0;34m'csr'\u001b[0m\u001b[0;34m,\u001b[0m \u001b[0;34m'csc'\u001b[0m\u001b[0;34m]\u001b[0m\u001b[0;34m,\u001b[0m \u001b[0mmulti_output\u001b[0m\u001b[0;34m=\u001b[0m\u001b[0;32mTrue\u001b[0m\u001b[0;34m)\u001b[0m\u001b[0;34m\u001b[0m\u001b[0;34m\u001b[0m\u001b[0m\n\u001b[0m\u001b[1;32m    342\u001b[0m \u001b[0;34m\u001b[0m\u001b[0m\n\u001b[1;32m    343\u001b[0m         \u001b[0;32mif\u001b[0m \u001b[0;32mnot\u001b[0m \u001b[0mcallable\u001b[0m\u001b[0;34m(\u001b[0m\u001b[0mself\u001b[0m\u001b[0;34m.\u001b[0m\u001b[0mscore_func\u001b[0m\u001b[0;34m)\u001b[0m\u001b[0;34m:\u001b[0m\u001b[0;34m\u001b[0m\u001b[0;34m\u001b[0m\u001b[0m\n",
      "\u001b[0;32m/usr/local/lib/python3.6/dist-packages/sklearn/utils/validation.py\u001b[0m in \u001b[0;36mcheck_X_y\u001b[0;34m(X, y, accept_sparse, accept_large_sparse, dtype, order, copy, force_all_finite, ensure_2d, allow_nd, multi_output, ensure_min_samples, ensure_min_features, y_numeric, warn_on_dtype, estimator)\u001b[0m\n\u001b[1;32m    754\u001b[0m                     \u001b[0mensure_min_features\u001b[0m\u001b[0;34m=\u001b[0m\u001b[0mensure_min_features\u001b[0m\u001b[0;34m,\u001b[0m\u001b[0;34m\u001b[0m\u001b[0;34m\u001b[0m\u001b[0m\n\u001b[1;32m    755\u001b[0m                     \u001b[0mwarn_on_dtype\u001b[0m\u001b[0;34m=\u001b[0m\u001b[0mwarn_on_dtype\u001b[0m\u001b[0;34m,\u001b[0m\u001b[0;34m\u001b[0m\u001b[0;34m\u001b[0m\u001b[0m\n\u001b[0;32m--> 756\u001b[0;31m                     estimator=estimator)\n\u001b[0m\u001b[1;32m    757\u001b[0m     \u001b[0;32mif\u001b[0m \u001b[0mmulti_output\u001b[0m\u001b[0;34m:\u001b[0m\u001b[0;34m\u001b[0m\u001b[0;34m\u001b[0m\u001b[0m\n\u001b[1;32m    758\u001b[0m         y = check_array(y, 'csr', force_all_finite=True, ensure_2d=False,\n",
      "\u001b[0;32m/usr/local/lib/python3.6/dist-packages/sklearn/utils/validation.py\u001b[0m in \u001b[0;36mcheck_array\u001b[0;34m(array, accept_sparse, accept_large_sparse, dtype, order, copy, force_all_finite, ensure_2d, allow_nd, ensure_min_samples, ensure_min_features, warn_on_dtype, estimator)\u001b[0m\n\u001b[1;32m    565\u001b[0m         \u001b[0;31m# make sure we actually converted to numeric:\u001b[0m\u001b[0;34m\u001b[0m\u001b[0;34m\u001b[0m\u001b[0;34m\u001b[0m\u001b[0m\n\u001b[1;32m    566\u001b[0m         \u001b[0;32mif\u001b[0m \u001b[0mdtype_numeric\u001b[0m \u001b[0;32mand\u001b[0m \u001b[0marray\u001b[0m\u001b[0;34m.\u001b[0m\u001b[0mdtype\u001b[0m\u001b[0;34m.\u001b[0m\u001b[0mkind\u001b[0m \u001b[0;34m==\u001b[0m \u001b[0;34m\"O\"\u001b[0m\u001b[0;34m:\u001b[0m\u001b[0;34m\u001b[0m\u001b[0;34m\u001b[0m\u001b[0m\n\u001b[0;32m--> 567\u001b[0;31m             \u001b[0marray\u001b[0m \u001b[0;34m=\u001b[0m \u001b[0marray\u001b[0m\u001b[0;34m.\u001b[0m\u001b[0mastype\u001b[0m\u001b[0;34m(\u001b[0m\u001b[0mnp\u001b[0m\u001b[0;34m.\u001b[0m\u001b[0mfloat64\u001b[0m\u001b[0;34m)\u001b[0m\u001b[0;34m\u001b[0m\u001b[0;34m\u001b[0m\u001b[0m\n\u001b[0m\u001b[1;32m    568\u001b[0m         \u001b[0;32mif\u001b[0m \u001b[0;32mnot\u001b[0m \u001b[0mallow_nd\u001b[0m \u001b[0;32mand\u001b[0m \u001b[0marray\u001b[0m\u001b[0;34m.\u001b[0m\u001b[0mndim\u001b[0m \u001b[0;34m>=\u001b[0m \u001b[0;36m3\u001b[0m\u001b[0;34m:\u001b[0m\u001b[0;34m\u001b[0m\u001b[0;34m\u001b[0m\u001b[0m\n\u001b[1;32m    569\u001b[0m             raise ValueError(\"Found array with dim %d. %s expected <= 2.\"\n",
      "\u001b[0;31mValueError\u001b[0m: could not convert string to float: 'I-200-16055-173457'"
     ]
    }
   ],
   "source": [
    "X = SelectKBest(score_func = chi2, k=40).fit_transform(X, y)"
   ]
  },
  {
   "cell_type": "code",
   "execution_count": 0,
   "metadata": {
    "colab": {},
    "colab_type": "code",
    "id": "iwxYFsZ62XzL"
   },
   "outputs": [],
   "source": []
  },
  {
   "cell_type": "code",
   "execution_count": 225,
   "metadata": {
    "colab": {
     "base_uri": "https://localhost:8080/",
     "height": 34
    },
    "colab_type": "code",
    "id": "dEyeIlAO0hQe",
    "outputId": "60591bd5-90db-41ad-ca29-d08a7bebb068"
   },
   "outputs": [
    {
     "data": {
      "text/plain": [
       "(20528, 50)"
      ]
     },
     "execution_count": 225,
     "metadata": {
      "tags": []
     },
     "output_type": "execute_result"
    }
   ],
   "source": [
    "df[df['CASE_STATUS'] == 'CERTIFIED-WITHDRAWN'].shape"
   ]
  },
  {
   "cell_type": "code",
   "execution_count": 0,
   "metadata": {
    "colab": {},
    "colab_type": "code",
    "id": "cWdj8uQoRNAa"
   },
   "outputs": [],
   "source": [
    "X = df.drop(labels=['CASE_STATUS'], axis=1)\n",
    "y = df['CASE_STATUS']\n",
    "\n",
    "# dividing X, y into train and test data \n",
    "X_train, X_test, y_train, y_test = train_test_split(X, y, random_state = 0) "
   ]
  },
  {
   "cell_type": "code",
   "execution_count": 134,
   "metadata": {
    "colab": {
     "base_uri": "https://localhost:8080/",
     "height": 952
    },
    "colab_type": "code",
    "id": "daOylXd3R77H",
    "outputId": "2e5e96bc-0d45-4c3d-f149-a8449f1eff95"
   },
   "outputs": [
    {
     "name": "stdout",
     "output_type": "stream",
     "text": [
      "<class 'pandas.core.frame.DataFrame'>\n",
      "Int64Index: 468487 entries, 220009 to 305711\n",
      "Data columns (total 50 columns):\n",
      "CASE_NUMBER                    468487 non-null object\n",
      "CASE_SUBMITTED                 468487 non-null object\n",
      "DECISION_DATE                  468487 non-null object\n",
      "VISA_CLASS                     468487 non-null object\n",
      "EMPLOYMENT_START_DATE          468487 non-null object\n",
      "EMPLOYMENT_END_DATE            468487 non-null object\n",
      "EMPLOYER_NAME                  468487 non-null object\n",
      "EMPLOYER_BUSINESS_DBA          468487 non-null object\n",
      "EMPLOYER_ADDRESS               468487 non-null object\n",
      "EMPLOYER_CITY                  468487 non-null object\n",
      "EMPLOYER_STATE                 468487 non-null object\n",
      "EMPLOYER_POSTAL_CODE           468487 non-null object\n",
      "EMPLOYER_COUNTRY               468487 non-null object\n",
      "EMPLOYER_PROVINCE              468487 non-null object\n",
      "EMPLOYER_PHONE                 468487 non-null object\n",
      "EMPLOYER_PHONE_EXT             468487 non-null object\n",
      "AGENT_REPRESENTING_EMPLOYER    468487 non-null object\n",
      "AGENT_ATTORNEY_NAME            468487 non-null object\n",
      "AGENT_ATTORNEY_CITY            468487 non-null object\n",
      "AGENT_ATTORNEY_STATE           468487 non-null object\n",
      "JOB_TITLE                      468487 non-null object\n",
      "SOC_CODE                       468487 non-null object\n",
      "SOC_NAME                       468487 non-null object\n",
      "NAICS_CODE                     468487 non-null object\n",
      "TOTAL_WORKERS                  468487 non-null int64\n",
      "NEW_EMPLOYMENT                 468487 non-null int64\n",
      "CONTINUED_EMPLOYMENT           468487 non-null int64\n",
      "CHANGE_PREVIOUS_EMPLOYMENT     468487 non-null int64\n",
      "NEW_CONCURRENT_EMPLOYMENT      468487 non-null int64\n",
      "CHANGE_EMPLOYER                468487 non-null int64\n",
      "AMENDED_PETITION               468487 non-null int64\n",
      "FULL_TIME_POSITION             468487 non-null object\n",
      "PREVAILING_WAGE                468487 non-null float64\n",
      "PW_UNIT_OF_PAY                 468487 non-null object\n",
      "PW_WAGE_LEVEL                  468487 non-null object\n",
      "PW_SOURCE                      468487 non-null object\n",
      "PW_SOURCE_YEAR                 468487 non-null float64\n",
      "PW_SOURCE_OTHER                468487 non-null object\n",
      "WAGE_RATE_OF_PAY_FROM          468487 non-null float64\n",
      "WAGE_RATE_OF_PAY_TO            468487 non-null float64\n",
      "WAGE_UNIT_OF_PAY               468487 non-null object\n",
      "H1B_DEPENDENT                  468487 non-null object\n",
      "WILLFUL_VIOLATOR               468487 non-null object\n",
      "SUPPORT_H1B                    468487 non-null object\n",
      "LABOR_CON_AGREE                468487 non-null object\n",
      "WORKSITE_CITY                  468476 non-null object\n",
      "WORKSITE_COUNTY                467598 non-null object\n",
      "WORKSITE_STATE                 468481 non-null object\n",
      "WORKSITE_POSTAL_CODE           468472 non-null object\n",
      "ORIGINAL_CERT_DATE             37262 non-null object\n",
      "dtypes: float64(4), int64(7), object(39)\n",
      "memory usage: 182.3+ MB\n"
     ]
    }
   ],
   "source": [
    "X_train.info()"
   ]
  },
  {
   "cell_type": "code",
   "execution_count": 0,
   "metadata": {
    "colab": {},
    "colab_type": "code",
    "id": "v23SZ0dFSWRy"
   },
   "outputs": [],
   "source": [
    "num_cols = X_train.describe().columns"
   ]
  },
  {
   "cell_type": "code",
   "execution_count": 136,
   "metadata": {
    "colab": {
     "base_uri": "https://localhost:8080/",
     "height": 224
    },
    "colab_type": "code",
    "id": "xls4cE9tacCh",
    "outputId": "bfe3e1f2-91f3-4ac3-e551-b7ca7c04879c"
   },
   "outputs": [
    {
     "data": {
      "text/html": [
       "<div>\n",
       "<style scoped>\n",
       "    .dataframe tbody tr th:only-of-type {\n",
       "        vertical-align: middle;\n",
       "    }\n",
       "\n",
       "    .dataframe tbody tr th {\n",
       "        vertical-align: top;\n",
       "    }\n",
       "\n",
       "    .dataframe thead th {\n",
       "        text-align: right;\n",
       "    }\n",
       "</style>\n",
       "<table border=\"1\" class=\"dataframe\">\n",
       "  <thead>\n",
       "    <tr style=\"text-align: right;\">\n",
       "      <th></th>\n",
       "      <th>TOTAL_WORKERS</th>\n",
       "      <th>NEW_EMPLOYMENT</th>\n",
       "      <th>CONTINUED_EMPLOYMENT</th>\n",
       "      <th>CHANGE_PREVIOUS_EMPLOYMENT</th>\n",
       "      <th>NEW_CONCURRENT_EMPLOYMENT</th>\n",
       "      <th>CHANGE_EMPLOYER</th>\n",
       "      <th>AMENDED_PETITION</th>\n",
       "      <th>PREVAILING_WAGE</th>\n",
       "      <th>PW_SOURCE_YEAR</th>\n",
       "      <th>WAGE_RATE_OF_PAY_FROM</th>\n",
       "      <th>WAGE_RATE_OF_PAY_TO</th>\n",
       "    </tr>\n",
       "  </thead>\n",
       "  <tbody>\n",
       "    <tr>\n",
       "      <th>0</th>\n",
       "      <td>1</td>\n",
       "      <td>1</td>\n",
       "      <td>0</td>\n",
       "      <td>0</td>\n",
       "      <td>0</td>\n",
       "      <td>0</td>\n",
       "      <td>0</td>\n",
       "      <td>59197.0</td>\n",
       "      <td>2015.0</td>\n",
       "      <td>65811.0</td>\n",
       "      <td>67320.0</td>\n",
       "    </tr>\n",
       "    <tr>\n",
       "      <th>1</th>\n",
       "      <td>1</td>\n",
       "      <td>1</td>\n",
       "      <td>0</td>\n",
       "      <td>0</td>\n",
       "      <td>0</td>\n",
       "      <td>0</td>\n",
       "      <td>0</td>\n",
       "      <td>49800.0</td>\n",
       "      <td>2015.0</td>\n",
       "      <td>53000.0</td>\n",
       "      <td>57200.0</td>\n",
       "    </tr>\n",
       "    <tr>\n",
       "      <th>2</th>\n",
       "      <td>2</td>\n",
       "      <td>2</td>\n",
       "      <td>0</td>\n",
       "      <td>0</td>\n",
       "      <td>0</td>\n",
       "      <td>0</td>\n",
       "      <td>0</td>\n",
       "      <td>76502.0</td>\n",
       "      <td>2015.0</td>\n",
       "      <td>77000.0</td>\n",
       "      <td>0.0</td>\n",
       "    </tr>\n",
       "    <tr>\n",
       "      <th>3</th>\n",
       "      <td>1</td>\n",
       "      <td>1</td>\n",
       "      <td>0</td>\n",
       "      <td>0</td>\n",
       "      <td>0</td>\n",
       "      <td>0</td>\n",
       "      <td>0</td>\n",
       "      <td>90376.0</td>\n",
       "      <td>2016.0</td>\n",
       "      <td>102000.0</td>\n",
       "      <td>0.0</td>\n",
       "    </tr>\n",
       "    <tr>\n",
       "      <th>4</th>\n",
       "      <td>1</td>\n",
       "      <td>0</td>\n",
       "      <td>0</td>\n",
       "      <td>0</td>\n",
       "      <td>0</td>\n",
       "      <td>1</td>\n",
       "      <td>0</td>\n",
       "      <td>116605.0</td>\n",
       "      <td>2015.0</td>\n",
       "      <td>132500.0</td>\n",
       "      <td>0.0</td>\n",
       "    </tr>\n",
       "  </tbody>\n",
       "</table>\n",
       "</div>"
      ],
      "text/plain": [
       "   TOTAL_WORKERS  NEW_EMPLOYMENT  CONTINUED_EMPLOYMENT  \\\n",
       "0              1               1                     0   \n",
       "1              1               1                     0   \n",
       "2              2               2                     0   \n",
       "3              1               1                     0   \n",
       "4              1               0                     0   \n",
       "\n",
       "   CHANGE_PREVIOUS_EMPLOYMENT  NEW_CONCURRENT_EMPLOYMENT  CHANGE_EMPLOYER  \\\n",
       "0                           0                          0                0   \n",
       "1                           0                          0                0   \n",
       "2                           0                          0                0   \n",
       "3                           0                          0                0   \n",
       "4                           0                          0                1   \n",
       "\n",
       "   AMENDED_PETITION  PREVAILING_WAGE  PW_SOURCE_YEAR  WAGE_RATE_OF_PAY_FROM  \\\n",
       "0                 0          59197.0          2015.0                65811.0   \n",
       "1                 0          49800.0          2015.0                53000.0   \n",
       "2                 0          76502.0          2015.0                77000.0   \n",
       "3                 0          90376.0          2016.0               102000.0   \n",
       "4                 0         116605.0          2015.0               132500.0   \n",
       "\n",
       "   WAGE_RATE_OF_PAY_TO  \n",
       "0              67320.0  \n",
       "1              57200.0  \n",
       "2                  0.0  \n",
       "3                  0.0  \n",
       "4                  0.0  "
      ]
     },
     "execution_count": 136,
     "metadata": {
      "tags": []
     },
     "output_type": "execute_result"
    }
   ],
   "source": [
    "df[num_cols].head()"
   ]
  },
  {
   "cell_type": "code",
   "execution_count": 0,
   "metadata": {
    "colab": {},
    "colab_type": "code",
    "id": "Pf1qzxUra2kv"
   },
   "outputs": [],
   "source": [
    "missing_columns = X_train.isnull().sum()[X_train.isnull().sum() > 0].index\n",
    "missing_columns\n",
    "for col in missing_columns:\n",
    "  df[col] = df[col].fillna(df[col].mode()[0])"
   ]
  },
  {
   "cell_type": "code",
   "execution_count": 0,
   "metadata": {
    "colab": {},
    "colab_type": "code",
    "id": "UGlWQpyVoBYB"
   },
   "outputs": [],
   "source": [
    "df.isnull().sum()"
   ]
  },
  {
   "cell_type": "code",
   "execution_count": 0,
   "metadata": {
    "colab": {},
    "colab_type": "code",
    "id": "VFWUYxAVqNQv"
   },
   "outputs": [],
   "source": [
    "X = df.drop(labels=['CASE_STATUS'], axis=1)\n",
    "y = df['CASE_STATUS']"
   ]
  },
  {
   "cell_type": "code",
   "execution_count": 0,
   "metadata": {
    "colab": {},
    "colab_type": "code",
    "id": "n3zsm_O6qIP7"
   },
   "outputs": [],
   "source": [
    "# dividing X, y into train and test data \n",
    "X_train, X_test, y_train, y_test = train_test_split(X, y, random_state = 0) "
   ]
  },
  {
   "cell_type": "code",
   "execution_count": 0,
   "metadata": {
    "colab": {},
    "colab_type": "code",
    "id": "WLjVHHJwl8Ic"
   },
   "outputs": [],
   "source": [
    "numeric_columns = X_train._get_numeric_data().columns"
   ]
  },
  {
   "cell_type": "code",
   "execution_count": 0,
   "metadata": {
    "colab": {},
    "colab_type": "code",
    "id": "2WW67B6gmXI0"
   },
   "outputs": [],
   "source": [
    "categorical_columns = list(set(X_train.columns) - set(numeric_columns))"
   ]
  },
  {
   "cell_type": "code",
   "execution_count": 106,
   "metadata": {
    "colab": {
     "base_uri": "https://localhost:8080/",
     "height": 423
    },
    "colab_type": "code",
    "id": "WhEGn6f0mc_1",
    "outputId": "ac842c55-4f34-482f-e89f-49605f134950"
   },
   "outputs": [
    {
     "data": {
      "text/html": [
       "<div>\n",
       "<style scoped>\n",
       "    .dataframe tbody tr th:only-of-type {\n",
       "        vertical-align: middle;\n",
       "    }\n",
       "\n",
       "    .dataframe tbody tr th {\n",
       "        vertical-align: top;\n",
       "    }\n",
       "\n",
       "    .dataframe thead th {\n",
       "        text-align: right;\n",
       "    }\n",
       "</style>\n",
       "<table border=\"1\" class=\"dataframe\">\n",
       "  <thead>\n",
       "    <tr style=\"text-align: right;\">\n",
       "      <th></th>\n",
       "      <th>CASE_NUMBER</th>\n",
       "      <th>EMPLOYER_ADDRESS</th>\n",
       "      <th>WORKSITE_STATE</th>\n",
       "      <th>EMPLOYER_BUSINESS_DBA</th>\n",
       "      <th>EMPLOYER_PHONE_EXT</th>\n",
       "      <th>AGENT_ATTORNEY_NAME</th>\n",
       "      <th>H1B_DEPENDENT</th>\n",
       "      <th>WORKSITE_COUNTY</th>\n",
       "      <th>EMPLOYER_POSTAL_CODE</th>\n",
       "      <th>AGENT_REPRESENTING_EMPLOYER</th>\n",
       "      <th>...</th>\n",
       "      <th>AGENT_ATTORNEY_CITY</th>\n",
       "      <th>SOC_CODE</th>\n",
       "      <th>JOB_TITLE</th>\n",
       "      <th>ORIGINAL_CERT_DATE</th>\n",
       "      <th>EMPLOYER_PROVINCE</th>\n",
       "      <th>FULL_TIME_POSITION</th>\n",
       "      <th>SOC_NAME</th>\n",
       "      <th>EMPLOYER_COUNTRY</th>\n",
       "      <th>AGENT_ATTORNEY_STATE</th>\n",
       "      <th>WORKSITE_CITY</th>\n",
       "    </tr>\n",
       "  </thead>\n",
       "  <tbody>\n",
       "    <tr>\n",
       "      <th>220009</th>\n",
       "      <td>I-200-17060-295468</td>\n",
       "      <td>9201 CORPORATE BOULEVARD</td>\n",
       "      <td>TX</td>\n",
       "      <td>NaN</td>\n",
       "      <td>226</td>\n",
       "      <td>,</td>\n",
       "      <td>Y</td>\n",
       "      <td>COLLIN</td>\n",
       "      <td>20850</td>\n",
       "      <td>N</td>\n",
       "      <td>...</td>\n",
       "      <td>NaN</td>\n",
       "      <td>15-1131</td>\n",
       "      <td>DEVELOPER</td>\n",
       "      <td>NaN</td>\n",
       "      <td>NaN</td>\n",
       "      <td>Y</td>\n",
       "      <td>COMPUTER PROGRAMMERS</td>\n",
       "      <td>UNITED STATES OF AMERICA</td>\n",
       "      <td>NaN</td>\n",
       "      <td>PLANO</td>\n",
       "    </tr>\n",
       "    <tr>\n",
       "      <th>165846</th>\n",
       "      <td>I-200-14337-126695</td>\n",
       "      <td>134 COLUMBIA  COURT</td>\n",
       "      <td>MN</td>\n",
       "      <td>NaN</td>\n",
       "      <td>NaN</td>\n",
       "      <td>MAXWELL, GEORGE</td>\n",
       "      <td>N</td>\n",
       "      <td>CARVER</td>\n",
       "      <td>55318</td>\n",
       "      <td>Y</td>\n",
       "      <td>...</td>\n",
       "      <td>MINNEAPOLIS</td>\n",
       "      <td>17-2112</td>\n",
       "      <td>INDUSTRIAL ENGINEER</td>\n",
       "      <td>2015-02-27</td>\n",
       "      <td>NaN</td>\n",
       "      <td>Y</td>\n",
       "      <td>INDUSTRIAL ENGINEERS</td>\n",
       "      <td>UNITED STATES OF AMERICA</td>\n",
       "      <td>MN</td>\n",
       "      <td>CHASKA</td>\n",
       "    </tr>\n",
       "    <tr>\n",
       "      <th>164082</th>\n",
       "      <td>I-200-17039-629236</td>\n",
       "      <td>MORRIS CORP. CENTER IV</td>\n",
       "      <td>PA</td>\n",
       "      <td>NaN</td>\n",
       "      <td>NaN</td>\n",
       "      <td>CHIAPPARI, TED</td>\n",
       "      <td>N</td>\n",
       "      <td>CUMBERLAND</td>\n",
       "      <td>07054-0225</td>\n",
       "      <td>Y</td>\n",
       "      <td>...</td>\n",
       "      <td>NEW YORK</td>\n",
       "      <td>13-1161</td>\n",
       "      <td>ANALYST</td>\n",
       "      <td>NaN</td>\n",
       "      <td>NaN</td>\n",
       "      <td>Y</td>\n",
       "      <td>MARKET RESEARCH ANALYSTS AND MARKETING SPECIAL...</td>\n",
       "      <td>UNITED STATES OF AMERICA</td>\n",
       "      <td>NY</td>\n",
       "      <td>CAMP HILL</td>\n",
       "    </tr>\n",
       "    <tr>\n",
       "      <th>341261</th>\n",
       "      <td>I-200-17069-665496</td>\n",
       "      <td>13000 PIERCE STREET</td>\n",
       "      <td>FL</td>\n",
       "      <td>NaN</td>\n",
       "      <td>NaN</td>\n",
       "      <td>SIMMONS, TERI</td>\n",
       "      <td>N</td>\n",
       "      <td>BREVARD</td>\n",
       "      <td>91331</td>\n",
       "      <td>Y</td>\n",
       "      <td>...</td>\n",
       "      <td>ATLANTA</td>\n",
       "      <td>15-1199</td>\n",
       "      <td>CONTROLS ENGINEER</td>\n",
       "      <td>NaN</td>\n",
       "      <td>NaN</td>\n",
       "      <td>Y</td>\n",
       "      <td>COMPUTER OCCUPATIONS, ALL OTHER</td>\n",
       "      <td>UNITED STATES OF AMERICA</td>\n",
       "      <td>GA</td>\n",
       "      <td>MELBOURNE</td>\n",
       "    </tr>\n",
       "    <tr>\n",
       "      <th>243938</th>\n",
       "      <td>I-200-17065-735517</td>\n",
       "      <td>1551 SOUTH WASHINGTON AVENUE</td>\n",
       "      <td>CA</td>\n",
       "      <td>NaN</td>\n",
       "      <td>NaN</td>\n",
       "      <td>,</td>\n",
       "      <td>Y</td>\n",
       "      <td>SANTA CLARA</td>\n",
       "      <td>08854</td>\n",
       "      <td>N</td>\n",
       "      <td>...</td>\n",
       "      <td>NaN</td>\n",
       "      <td>15-1131</td>\n",
       "      <td>PROGRAMMER ANALYST</td>\n",
       "      <td>NaN</td>\n",
       "      <td>MIDDLESEX</td>\n",
       "      <td>Y</td>\n",
       "      <td>COMPUTER PROGRAMMERS</td>\n",
       "      <td>UNITED STATES OF AMERICA</td>\n",
       "      <td>NaN</td>\n",
       "      <td>MILPITAS</td>\n",
       "    </tr>\n",
       "  </tbody>\n",
       "</table>\n",
       "<p>5 rows × 39 columns</p>\n",
       "</div>"
      ],
      "text/plain": [
       "               CASE_NUMBER              EMPLOYER_ADDRESS WORKSITE_STATE  \\\n",
       "220009  I-200-17060-295468      9201 CORPORATE BOULEVARD             TX   \n",
       "165846  I-200-14337-126695           134 COLUMBIA  COURT             MN   \n",
       "164082  I-200-17039-629236        MORRIS CORP. CENTER IV             PA   \n",
       "341261  I-200-17069-665496           13000 PIERCE STREET             FL   \n",
       "243938  I-200-17065-735517  1551 SOUTH WASHINGTON AVENUE             CA   \n",
       "\n",
       "       EMPLOYER_BUSINESS_DBA EMPLOYER_PHONE_EXT AGENT_ATTORNEY_NAME  \\\n",
       "220009                   NaN                226                   ,   \n",
       "165846                   NaN                NaN     MAXWELL, GEORGE   \n",
       "164082                   NaN                NaN      CHIAPPARI, TED   \n",
       "341261                   NaN                NaN       SIMMONS, TERI   \n",
       "243938                   NaN                NaN                   ,   \n",
       "\n",
       "       H1B_DEPENDENT WORKSITE_COUNTY EMPLOYER_POSTAL_CODE  \\\n",
       "220009             Y          COLLIN                20850   \n",
       "165846             N          CARVER                55318   \n",
       "164082             N      CUMBERLAND           07054-0225   \n",
       "341261             N         BREVARD                91331   \n",
       "243938             Y     SANTA CLARA                08854   \n",
       "\n",
       "       AGENT_REPRESENTING_EMPLOYER  ... AGENT_ATTORNEY_CITY SOC_CODE  \\\n",
       "220009                           N  ...                 NaN  15-1131   \n",
       "165846                           Y  ...         MINNEAPOLIS  17-2112   \n",
       "164082                           Y  ...            NEW YORK  13-1161   \n",
       "341261                           Y  ...             ATLANTA  15-1199   \n",
       "243938                           N  ...                 NaN  15-1131   \n",
       "\n",
       "                  JOB_TITLE ORIGINAL_CERT_DATE EMPLOYER_PROVINCE  \\\n",
       "220009            DEVELOPER                NaN               NaN   \n",
       "165846  INDUSTRIAL ENGINEER         2015-02-27               NaN   \n",
       "164082              ANALYST                NaN               NaN   \n",
       "341261    CONTROLS ENGINEER                NaN               NaN   \n",
       "243938   PROGRAMMER ANALYST                NaN         MIDDLESEX   \n",
       "\n",
       "       FULL_TIME_POSITION                                           SOC_NAME  \\\n",
       "220009                  Y                               COMPUTER PROGRAMMERS   \n",
       "165846                  Y                               INDUSTRIAL ENGINEERS   \n",
       "164082                  Y  MARKET RESEARCH ANALYSTS AND MARKETING SPECIAL...   \n",
       "341261                  Y                    COMPUTER OCCUPATIONS, ALL OTHER   \n",
       "243938                  Y                               COMPUTER PROGRAMMERS   \n",
       "\n",
       "                EMPLOYER_COUNTRY AGENT_ATTORNEY_STATE WORKSITE_CITY  \n",
       "220009  UNITED STATES OF AMERICA                  NaN         PLANO  \n",
       "165846  UNITED STATES OF AMERICA                   MN        CHASKA  \n",
       "164082  UNITED STATES OF AMERICA                   NY     CAMP HILL  \n",
       "341261  UNITED STATES OF AMERICA                   GA     MELBOURNE  \n",
       "243938  UNITED STATES OF AMERICA                  NaN      MILPITAS  \n",
       "\n",
       "[5 rows x 39 columns]"
      ]
     },
     "execution_count": 106,
     "metadata": {
      "tags": []
     },
     "output_type": "execute_result"
    }
   ],
   "source": [
    "X_train[categorical_columns].head()"
   ]
  },
  {
   "cell_type": "code",
   "execution_count": 95,
   "metadata": {
    "colab": {
     "base_uri": "https://localhost:8080/",
     "height": 901
    },
    "colab_type": "code",
    "id": "BiJa_nSsltWF",
    "outputId": "02d197c2-87db-40b3-8736-4aa25c5dd88c"
   },
   "outputs": [
    {
     "data": {
      "text/plain": [
       "CASE_NUMBER                         0\n",
       "CASE_SUBMITTED                      0\n",
       "DECISION_DATE                       0\n",
       "VISA_CLASS                          0\n",
       "EMPLOYMENT_START_DATE              19\n",
       "EMPLOYMENT_END_DATE                20\n",
       "EMPLOYER_NAME                      50\n",
       "EMPLOYER_BUSINESS_DBA          436162\n",
       "EMPLOYER_ADDRESS                    5\n",
       "EMPLOYER_CITY                      11\n",
       "EMPLOYER_STATE                     15\n",
       "EMPLOYER_POSTAL_CODE               13\n",
       "EMPLOYER_COUNTRY                72290\n",
       "EMPLOYER_PROVINCE              463873\n",
       "EMPLOYER_PHONE                  72291\n",
       "EMPLOYER_PHONE_EXT             447554\n",
       "AGENT_REPRESENTING_EMPLOYER     72289\n",
       "AGENT_ATTORNEY_NAME                 0\n",
       "AGENT_ATTORNEY_CITY            204772\n",
       "AGENT_ATTORNEY_STATE           216378\n",
       "JOB_TITLE                           4\n",
       "SOC_CODE                            2\n",
       "SOC_NAME                            3\n",
       "NAICS_CODE                          6\n",
       "TOTAL_WORKERS                       0\n",
       "NEW_EMPLOYMENT                      0\n",
       "CONTINUED_EMPLOYMENT                0\n",
       "CHANGE_PREVIOUS_EMPLOYMENT          0\n",
       "NEW_CONCURRENT_EMPLOYMENT           0\n",
       "CHANGE_EMPLOYER                     0\n",
       "AMENDED_PETITION                    0\n",
       "FULL_TIME_POSITION                  5\n",
       "PREVAILING_WAGE                     1\n",
       "PW_UNIT_OF_PAY                     31\n",
       "PW_WAGE_LEVEL                   92872\n",
       "PW_SOURCE                          34\n",
       "PW_SOURCE_YEAR                     34\n",
       "PW_SOURCE_OTHER                  4791\n",
       "WAGE_RATE_OF_PAY_FROM               0\n",
       "WAGE_RATE_OF_PAY_TO                 1\n",
       "WAGE_UNIT_OF_PAY                    6\n",
       "H1B_DEPENDENT                   10317\n",
       "WILLFUL_VIOLATOR                10318\n",
       "SUPPORT_H1B                    288585\n",
       "LABOR_CON_AGREE                285097\n",
       "PUBLIC_DISCLOSURE_LOCATION     468487\n",
       "WORKSITE_CITY                      11\n",
       "WORKSITE_COUNTY                   889\n",
       "WORKSITE_STATE                      6\n",
       "WORKSITE_POSTAL_CODE               15\n",
       "ORIGINAL_CERT_DATE             431225\n",
       "dtype: int64"
      ]
     },
     "execution_count": 95,
     "metadata": {
      "tags": []
     },
     "output_type": "execute_result"
    }
   ],
   "source": [
    "X_train.isnull().sum()"
   ]
  },
  {
   "cell_type": "code",
   "execution_count": 146,
   "metadata": {
    "colab": {
     "base_uri": "https://localhost:8080/",
     "height": 423
    },
    "colab_type": "code",
    "id": "c0494oo4b3lY",
    "outputId": "a16f9dff-5143-42d1-c8fb-865754c664c8"
   },
   "outputs": [
    {
     "data": {
      "text/html": [
       "<div>\n",
       "<style scoped>\n",
       "    .dataframe tbody tr th:only-of-type {\n",
       "        vertical-align: middle;\n",
       "    }\n",
       "\n",
       "    .dataframe tbody tr th {\n",
       "        vertical-align: top;\n",
       "    }\n",
       "\n",
       "    .dataframe thead th {\n",
       "        text-align: right;\n",
       "    }\n",
       "</style>\n",
       "<table border=\"1\" class=\"dataframe\">\n",
       "  <thead>\n",
       "    <tr style=\"text-align: right;\">\n",
       "      <th></th>\n",
       "      <th>CASE_NUMBER</th>\n",
       "      <th>CASE_SUBMITTED</th>\n",
       "      <th>DECISION_DATE</th>\n",
       "      <th>VISA_CLASS</th>\n",
       "      <th>EMPLOYMENT_START_DATE</th>\n",
       "      <th>EMPLOYMENT_END_DATE</th>\n",
       "      <th>EMPLOYER_NAME</th>\n",
       "      <th>EMPLOYER_BUSINESS_DBA</th>\n",
       "      <th>EMPLOYER_ADDRESS</th>\n",
       "      <th>EMPLOYER_CITY</th>\n",
       "      <th>...</th>\n",
       "      <th>WAGE_UNIT_OF_PAY</th>\n",
       "      <th>H1B_DEPENDENT</th>\n",
       "      <th>WILLFUL_VIOLATOR</th>\n",
       "      <th>SUPPORT_H1B</th>\n",
       "      <th>LABOR_CON_AGREE</th>\n",
       "      <th>WORKSITE_CITY</th>\n",
       "      <th>WORKSITE_COUNTY</th>\n",
       "      <th>WORKSITE_STATE</th>\n",
       "      <th>WORKSITE_POSTAL_CODE</th>\n",
       "      <th>ORIGINAL_CERT_DATE</th>\n",
       "    </tr>\n",
       "  </thead>\n",
       "  <tbody>\n",
       "    <tr>\n",
       "      <th>220009</th>\n",
       "      <td>I-200-17060-295468</td>\n",
       "      <td>2017-03-01</td>\n",
       "      <td>2017-03-07</td>\n",
       "      <td>H-1B</td>\n",
       "      <td>2017-08-28</td>\n",
       "      <td>2020-08-27</td>\n",
       "      <td>TATA CONSULTANCY SERVICES LIMITED</td>\n",
       "      <td>MASTECH DIGITAL TECHNOLOGIES, INC.</td>\n",
       "      <td>9201 CORPORATE BOULEVARD</td>\n",
       "      <td>ROCKVILLE</td>\n",
       "      <td>...</td>\n",
       "      <td>Year</td>\n",
       "      <td>Y</td>\n",
       "      <td>N</td>\n",
       "      <td>Y</td>\n",
       "      <td>Y</td>\n",
       "      <td>PLANO</td>\n",
       "      <td>COLLIN</td>\n",
       "      <td>TX</td>\n",
       "      <td>75024</td>\n",
       "      <td>2017-03-16</td>\n",
       "    </tr>\n",
       "    <tr>\n",
       "      <th>165846</th>\n",
       "      <td>I-200-14337-126695</td>\n",
       "      <td>2015-02-23</td>\n",
       "      <td>2017-02-21</td>\n",
       "      <td>H-1B</td>\n",
       "      <td>2015-08-02</td>\n",
       "      <td>2018-08-01</td>\n",
       "      <td>PACA, INC.</td>\n",
       "      <td>MASTECH DIGITAL TECHNOLOGIES, INC.</td>\n",
       "      <td>134 COLUMBIA  COURT</td>\n",
       "      <td>CHASKA</td>\n",
       "      <td>...</td>\n",
       "      <td>Year</td>\n",
       "      <td>N</td>\n",
       "      <td>N</td>\n",
       "      <td>Y</td>\n",
       "      <td>Y</td>\n",
       "      <td>CHASKA</td>\n",
       "      <td>CARVER</td>\n",
       "      <td>MN</td>\n",
       "      <td>55318</td>\n",
       "      <td>2015-02-27</td>\n",
       "    </tr>\n",
       "    <tr>\n",
       "      <th>164082</th>\n",
       "      <td>I-200-17039-629236</td>\n",
       "      <td>2017-02-13</td>\n",
       "      <td>2017-02-17</td>\n",
       "      <td>H-1B</td>\n",
       "      <td>2017-08-08</td>\n",
       "      <td>2020-08-08</td>\n",
       "      <td>RECKITT BENCKISER LLC</td>\n",
       "      <td>MASTECH DIGITAL TECHNOLOGIES, INC.</td>\n",
       "      <td>MORRIS CORP. CENTER IV</td>\n",
       "      <td>PARSIPPANY</td>\n",
       "      <td>...</td>\n",
       "      <td>Year</td>\n",
       "      <td>N</td>\n",
       "      <td>N</td>\n",
       "      <td>Y</td>\n",
       "      <td>Y</td>\n",
       "      <td>CAMP HILL</td>\n",
       "      <td>CUMBERLAND</td>\n",
       "      <td>PA</td>\n",
       "      <td>17011</td>\n",
       "      <td>2017-03-16</td>\n",
       "    </tr>\n",
       "    <tr>\n",
       "      <th>341261</th>\n",
       "      <td>I-200-17069-665496</td>\n",
       "      <td>2017-03-17</td>\n",
       "      <td>2017-03-23</td>\n",
       "      <td>H-1B</td>\n",
       "      <td>2017-09-09</td>\n",
       "      <td>2020-09-08</td>\n",
       "      <td>SDI INDUSTRIES, INC.</td>\n",
       "      <td>MASTECH DIGITAL TECHNOLOGIES, INC.</td>\n",
       "      <td>13000 PIERCE STREET</td>\n",
       "      <td>PACOIMA</td>\n",
       "      <td>...</td>\n",
       "      <td>Year</td>\n",
       "      <td>N</td>\n",
       "      <td>N</td>\n",
       "      <td>Y</td>\n",
       "      <td>Y</td>\n",
       "      <td>MELBOURNE</td>\n",
       "      <td>BREVARD</td>\n",
       "      <td>FL</td>\n",
       "      <td>32901</td>\n",
       "      <td>2017-03-16</td>\n",
       "    </tr>\n",
       "    <tr>\n",
       "      <th>243938</th>\n",
       "      <td>I-200-17065-735517</td>\n",
       "      <td>2017-03-06</td>\n",
       "      <td>2017-03-10</td>\n",
       "      <td>H-1B</td>\n",
       "      <td>2017-07-11</td>\n",
       "      <td>2020-07-10</td>\n",
       "      <td>FIRST TEK, INC.</td>\n",
       "      <td>MASTECH DIGITAL TECHNOLOGIES, INC.</td>\n",
       "      <td>1551 SOUTH WASHINGTON AVENUE</td>\n",
       "      <td>PISCATAWAY</td>\n",
       "      <td>...</td>\n",
       "      <td>Year</td>\n",
       "      <td>Y</td>\n",
       "      <td>N</td>\n",
       "      <td>Y</td>\n",
       "      <td>Y</td>\n",
       "      <td>MILPITAS</td>\n",
       "      <td>SANTA CLARA</td>\n",
       "      <td>CA</td>\n",
       "      <td>95035</td>\n",
       "      <td>2017-03-16</td>\n",
       "    </tr>\n",
       "  </tbody>\n",
       "</table>\n",
       "<p>5 rows × 50 columns</p>\n",
       "</div>"
      ],
      "text/plain": [
       "               CASE_NUMBER CASE_SUBMITTED DECISION_DATE VISA_CLASS  \\\n",
       "220009  I-200-17060-295468     2017-03-01    2017-03-07       H-1B   \n",
       "165846  I-200-14337-126695     2015-02-23    2017-02-21       H-1B   \n",
       "164082  I-200-17039-629236     2017-02-13    2017-02-17       H-1B   \n",
       "341261  I-200-17069-665496     2017-03-17    2017-03-23       H-1B   \n",
       "243938  I-200-17065-735517     2017-03-06    2017-03-10       H-1B   \n",
       "\n",
       "       EMPLOYMENT_START_DATE EMPLOYMENT_END_DATE  \\\n",
       "220009            2017-08-28          2020-08-27   \n",
       "165846            2015-08-02          2018-08-01   \n",
       "164082            2017-08-08          2020-08-08   \n",
       "341261            2017-09-09          2020-09-08   \n",
       "243938            2017-07-11          2020-07-10   \n",
       "\n",
       "                            EMPLOYER_NAME               EMPLOYER_BUSINESS_DBA  \\\n",
       "220009  TATA CONSULTANCY SERVICES LIMITED  MASTECH DIGITAL TECHNOLOGIES, INC.   \n",
       "165846                         PACA, INC.  MASTECH DIGITAL TECHNOLOGIES, INC.   \n",
       "164082              RECKITT BENCKISER LLC  MASTECH DIGITAL TECHNOLOGIES, INC.   \n",
       "341261               SDI INDUSTRIES, INC.  MASTECH DIGITAL TECHNOLOGIES, INC.   \n",
       "243938                    FIRST TEK, INC.  MASTECH DIGITAL TECHNOLOGIES, INC.   \n",
       "\n",
       "                    EMPLOYER_ADDRESS EMPLOYER_CITY  ... WAGE_UNIT_OF_PAY  \\\n",
       "220009      9201 CORPORATE BOULEVARD     ROCKVILLE  ...             Year   \n",
       "165846           134 COLUMBIA  COURT        CHASKA  ...             Year   \n",
       "164082        MORRIS CORP. CENTER IV    PARSIPPANY  ...             Year   \n",
       "341261           13000 PIERCE STREET       PACOIMA  ...             Year   \n",
       "243938  1551 SOUTH WASHINGTON AVENUE    PISCATAWAY  ...             Year   \n",
       "\n",
       "       H1B_DEPENDENT WILLFUL_VIOLATOR SUPPORT_H1B LABOR_CON_AGREE  \\\n",
       "220009             Y                N           Y               Y   \n",
       "165846             N                N           Y               Y   \n",
       "164082             N                N           Y               Y   \n",
       "341261             N                N           Y               Y   \n",
       "243938             Y                N           Y               Y   \n",
       "\n",
       "       WORKSITE_CITY WORKSITE_COUNTY WORKSITE_STATE WORKSITE_POSTAL_CODE  \\\n",
       "220009         PLANO          COLLIN             TX                75024   \n",
       "165846        CHASKA          CARVER             MN                55318   \n",
       "164082     CAMP HILL      CUMBERLAND             PA                17011   \n",
       "341261     MELBOURNE         BREVARD             FL                32901   \n",
       "243938      MILPITAS     SANTA CLARA             CA                95035   \n",
       "\n",
       "       ORIGINAL_CERT_DATE  \n",
       "220009         2017-03-16  \n",
       "165846         2015-02-27  \n",
       "164082         2017-03-16  \n",
       "341261         2017-03-16  \n",
       "243938         2017-03-16  \n",
       "\n",
       "[5 rows x 50 columns]"
      ]
     },
     "execution_count": 146,
     "metadata": {
      "tags": []
     },
     "output_type": "execute_result"
    }
   ],
   "source": [
    "X_train.head()"
   ]
  },
  {
   "cell_type": "code",
   "execution_count": 163,
   "metadata": {
    "colab": {
     "base_uri": "https://localhost:8080/",
     "height": 284
    },
    "colab_type": "code",
    "id": "BZreM1pUrtTd",
    "outputId": "4160f05b-8e23-41e2-df2f-dd48bbea1a5e"
   },
   "outputs": [
    {
     "data": {
      "image/png": "[encoded data removed]",
      "text/plain": [
       "<Figure size 432x288 with 1 Axes>"
      ]
     },
     "metadata": {
      "tags": []
     },
     "output_type": "display_data"
    }
   ],
   "source": [
    "sns.countplot(X_train.VISA_CLASS)\n",
    "plt.show()"
   ]
  },
  {
   "cell_type": "code",
   "execution_count": 187,
   "metadata": {
    "colab": {
     "base_uri": "https://localhost:8080/",
     "height": 34
    },
    "colab_type": "code",
    "id": "v07S7lKzRshJ",
    "outputId": "4284d65c-9ddd-4b01-9a27-62e678093e22"
   },
   "outputs": [
    {
     "data": {
      "text/plain": [
       "(503213, 51)"
      ]
     },
     "execution_count": 187,
     "metadata": {
      "tags": []
     },
     "output_type": "execute_result"
    }
   ],
   "source": []
  },
  {
   "cell_type": "code",
   "execution_count": 188,
   "metadata": {
    "colab": {
     "base_uri": "https://localhost:8080/",
     "height": 34
    },
    "colab_type": "code",
    "id": "lIHrYvHKwKpN",
    "outputId": "1e76b18e-f6fe-4141-848f-1ad8cde54c82"
   },
   "outputs": [
    {
     "data": {
      "text/plain": [
       "(624650, 51)"
      ]
     },
     "execution_count": 188,
     "metadata": {
      "tags": []
     },
     "output_type": "execute_result"
    }
   ],
   "source": [
    "df.shape"
   ]
  },
  {
   "cell_type": "code",
   "execution_count": 82,
   "metadata": {
    "colab": {
     "base_uri": "https://localhost:8080/",
     "height": 284
    },
    "colab_type": "code",
    "id": "MorJ9t__R4rh",
    "outputId": "f3ab766e-6f47-4a67-d2a5-1f13ca759b2d"
   },
   "outputs": [
    {
     "data": {
      "image/png": "[encoded data removed]",
      "text/plain": [
       "<Figure size 432x288 with 1 Axes>"
      ]
     },
     "metadata": {
      "tags": []
     },
     "output_type": "display_data"
    }
   ],
   "source": [
    "import seaborn as sns\n",
    "sns.countplot(y)\n",
    "plt.show()"
   ]
  },
  {
   "cell_type": "code",
   "execution_count": 85,
   "metadata": {
    "colab": {
     "base_uri": "https://localhost:8080/",
     "height": 68
    },
    "colab_type": "code",
    "id": "-ttcoJmkkiTq",
    "outputId": "91560bed-ee55-4b64-ddbc-498ba6847b03"
   },
   "outputs": [
    {
     "data": {
      "text/plain": [
       "array([nan, 'NOVARTIS PHARMACEUTICALS CORPORATION', 'CAREERBUILDER', ...,\n",
       "       'ALAGASCO', 'BORIES AND SHEARRON', 'AMAZING STUFF SHOP'],\n",
       "      dtype=object)"
      ]
     },
     "execution_count": 85,
     "metadata": {
      "tags": []
     },
     "output_type": "execute_result"
    }
   ],
   "source": [
    "X_train['EMPLOYER_BUSINESS_DBA'].unique()"
   ]
  }
 ],
 "metadata": {
  "colab": {
   "name": "h1B_project.ipynb",
   "provenance": [],
   "version": "0.3.2"
  },
  "kernelspec": {
   "display_name": "Python 3",
   "language": "python",
   "name": "python3"
  },
  "language_info": {
   "codemirror_mode": {
    "name": "ipython",
    "version": 3
   },
   "file_extension": ".py",
   "mimetype": "text/x-python",
   "name": "python",
   "nbconvert_exporter": "python",
   "pygments_lexer": "ipython3",
   "version": "3.7.1"
  }
 },
 "nbformat": 4,
 "nbformat_minor": 1
}
